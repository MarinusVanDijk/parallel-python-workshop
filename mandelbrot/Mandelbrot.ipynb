{
 "cells": [
  {
   "cell_type": "markdown",
   "id": "4e0c6388",
   "metadata": {},
   "source": [
    "# Exercise: Mandelbrot set"
   ]
  },
  {
   "cell_type": "markdown",
   "id": "3ca669ac",
   "metadata": {},
   "source": [
    "In this excercise, We will be computing the famous [Mandelbrot set](https://en.wikipedia.org/wiki/Mandelbrot_set). \n",
    "\n",
    "The Mandelbrot set is the set of [complex numbers](https://en.wikipedia.org/wiki/Complex_number) $c \\in \\mathbb{C}$ for which the iteration,\n",
    "\n",
    "$$z_{n+1} = z_n^2 + c,$$\n",
    "\n",
    "converges (i.e. does not diverge to infinity), when iterated from $z_0 = 0$. "
   ]
  },
  {
   "cell_type": "markdown",
   "id": "00709e1f",
   "metadata": {},
   "source": [
    "The beauty of the Mandelbrot set is that it's [self-similar](https://en.wikipedia.org/wiki/Self-similarity). So if you start to zoom into the set, you may start to see the same pattern showing up again, as you can see in the [gif](https://en.wikipedia.org/wiki/Mandelbrot_set#/media/File:Mandelbrot_sequence_new.gif) of its wikipedia page."
   ]
  },
  {
   "cell_type": "markdown",
   "id": "627f7c3d",
   "metadata": {},
   "source": [
    "A complex number $c$ belongs to the Mandelbrot set if and only if $ |z_{n}| \\le 2 $ for all $ n \\ge 0 $ . We can use this property to validate if $c$ is within the Mandelbrot set."
   ]
  },
  {
   "cell_type": "markdown",
   "id": "f52f7fba",
   "metadata": {},
   "source": [
    "As you may already noticed, we need to investigate infinity number of $c$. And for each $c$, we need to compute infinite number of iterations to validate if it is within the Mandelbrot set. Of course we will not do either of them (hey this is not a mathematics workshop -_^). We will simply:\n",
    "\n",
    "1. Define a finite extent;\n",
    "2. Select a finite number of complex numbers within this extent;\n",
    "3. Validate each complex number with a finite number of iterations. If in any iteration |z_{n}| \\ge 2 $, the number is not in the Mandelbrot set. "
   ]
  },
  {
   "cell_type": "code",
   "execution_count": null,
   "id": "7dd069f6",
   "metadata": {},
   "outputs": [],
   "source": [
    "# Define a finite extent\n",
    "CENTER = -0.8 + 0.0j # Location of the extent center\n",
    "EXTENT_RE = 3.0 # Extent length on the real axis\n",
    "EXTENT_IM = 3.0 # Extent length on the imaginary axis\n",
    "\n",
    "# Select finite number of complex numbers\n",
    "# In total nRE*nIM complex numbers will be inspected \n",
    "N_RE = 256 # number of elemtes along the real axis\n",
    "N_IM = 256 # number of elemtes along the imaginary axis\n",
    "\n",
    "# Finite iterations\n",
    "MAX_ITER = 256 # Max number of iterations per"
   ]
  },
  {
   "cell_type": "markdown",
   "id": "c93aa60f",
   "metadata": {},
   "source": [
    "We will start with a native for loop implementation to compute and visualize the Mandelbrot set within a certain extent. "
   ]
  },
  {
   "cell_type": "code",
   "execution_count": null,
   "id": "7849acfa",
   "metadata": {},
   "outputs": [],
   "source": [
    "import numpy as np\n",
    "\n",
    "def compute_mandelbrot(nIM=N_IM, nRE=N_RE, max_iter=MAX_ITER, center=CENTER, extent_RE=EXTENT_RE, extent_IM=EXTENT_IM):\n",
    "    niters = np.zeros((nIM, nRE), int)\n",
    "    scale = max(extent_RE/nRE, extent_IM/nIM)\n",
    "\n",
    "    # Loop through all selected complex number within the extent\n",
    "    for j in range(nIM):\n",
    "        for i in range(nRE):\n",
    "            c = center + (i - nRE // 2 + (j - nIM //2) * 1j) * scale\n",
    "            z = 0\n",
    "\n",
    "            # Per complex number, validate it for a finite number of iterations\n",
    "            for k in range(max_iter):\n",
    "                z = z**2 + c\n",
    "\n",
    "                # if the modulus (or absolute value) of the complex number is greater than 2,\n",
    "                # it will diverge, thus not within Mandelbrot set\n",
    "                if np.absolute(z) > 2.0: \n",
    "                    break\n",
    "\n",
    "            niters[j, i] = k\n",
    "    return niters"
   ]
  },
  {
   "cell_type": "markdown",
   "id": "b38dcf0f",
   "metadata": {},
   "source": [
    "We call the function to compute the iteration numbers per complex number:"
   ]
  },
  {
   "cell_type": "code",
   "execution_count": null,
   "id": "c00262e5",
   "metadata": {},
   "outputs": [],
   "source": [
    "niters = compute_mandelbrot()"
   ]
  },
  {
   "cell_type": "markdown",
   "id": "c16f65bd",
   "metadata": {},
   "source": [
    "And we can visualize the interation numbers of all complex numbers we validated:"
   ]
  },
  {
   "cell_type": "code",
   "execution_count": null,
   "id": "95e31baf",
   "metadata": {},
   "outputs": [],
   "source": [
    "from matplotlib import pyplot as plt\n",
    "\n",
    "fig, ax = plt.subplots(1,1, figsize=(5,5))\n",
    "plot_extent = (CENTER.real - EXTENT_RE/2,\n",
    "               CENTER.real + EXTENT_RE/2,\n",
    "               CENTER.imag - EXTENT_IM/2,\n",
    "               CENTER.imag + EXTENT_IM/2)\n",
    "\n",
    "ax.imshow(niters, origin='lower', extent=plot_extent)\n",
    "ax.set_xlabel(\"$\\Re(c)$\")\n",
    "ax.set_ylabel(\"$\\Im(c)$\")"
   ]
  },
  {
   "cell_type": "markdown",
   "id": "7ac15a32",
   "metadata": {},
   "source": [
    "All the yellow pixels here represents the complex number survived through the max number iterations, thus they are considered as within the Mandelbrot set in our example. So the function seem to be working, but can we make it faster?"
   ]
  },
  {
   "cell_type": "code",
   "execution_count": null,
   "id": "e5f76ab8",
   "metadata": {},
   "outputs": [],
   "source": [
    "%timeit compute_mandelbrot()"
   ]
  },
  {
   "cell_type": "markdown",
   "id": "462d7cef",
   "metadata": {},
   "source": [
    "It takes a few seconds for now to validate all numbers within the given extent. Can you use the optimization skills you have learnt in this workshop to accelerate the given implementation?"
   ]
  },
  {
   "cell_type": "markdown",
   "id": "b8a9be47",
   "metadata": {},
   "source": [
    "## Extra exercise: Julia set"
   ]
  },
  {
   "cell_type": "markdown",
   "id": "eecf366a",
   "metadata": {},
   "source": [
    "We have computed the [Mandelbrot set](https://en.wikipedia.org/wiki/Mandelbrot_set) in the previous exercise, where we mainly investigated the complex number $c$. Now if we switch our focus from $c$ to $z$, we will be looking into the [Julia set](https://en.wikipedia.org/wiki/Julia_set).\n",
    "\n",
    "If we look back into the definition of the [Mandelbrot set](https://en.wikipedia.org/wiki/Mandelbrot_set) at the begining of this exercise. This time we fix the complex number $c$ as a constant. For this given $c$ value in the iteration\n",
    "\n",
    "$$z_{n+1} = z_n^2 + c ,$$\n",
    "\n",
    "all the staring values $z_1$ making this iteration converge are the Julia set of $c$.\n",
    "\n",
    "As you may notice, this time instead of setting $z_1=0$, we will loop over all the $z_1$ values for a fixed value $c$. The good news is that since the equation for the iteration remains the same, we can still use the same criterion to validate if it converges."
   ]
  },
  {
   "cell_type": "markdown",
   "id": "201b4757",
   "metadata": {},
   "source": [
    "Same as the last exercise we set up a finite searching space:"
   ]
  },
  {
   "cell_type": "code",
   "execution_count": null,
   "id": "9a057edf",
   "metadata": {},
   "outputs": [],
   "source": [
    "# Define a finite extent\n",
    "CENTER = 0.0 + 0.0j # Location of the extent center\n",
    "EXTENT_RE = 4.0 # Extent length on the real axis\n",
    "EXTENT_IM = 3.0 # Extent length on the imaginary axis\n",
    "\n",
    "# Select finite number of complex numbers\n",
    "# In total nRE*nIM complex numbers will be inspected \n",
    "N_RE = 256 # number of elemtes along the real axis\n",
    "N_IM = 256 # number of elemtes along the imaginary axis\n",
    "\n",
    "# Finite iterations\n",
    "MAX_ITER = 256 # Max number of iterations per\n",
    "\n",
    "# Select a complex number\n",
    "C = -0.5+0.6j"
   ]
  },
  {
   "cell_type": "markdown",
   "id": "cb5aadd2",
   "metadata": {},
   "source": [
    "Then we create a simple loop to search for all the $z_1$ making the iteration converge."
   ]
  },
  {
   "cell_type": "code",
   "execution_count": null,
   "id": "80833e18",
   "metadata": {},
   "outputs": [],
   "source": [
    "def compute_julia(nIM=N_IM, nRE=N_RE, max_iter=MAX_ITER, center=CENTER, extent_RE=EXTENT_RE, extent_IM=EXTENT_IM, c=C):\n",
    "    niters = np.zeros((nIM, nRE), int)\n",
    "    scale = max(extent_RE/nRE, extent_IM/nIM)\n",
    "\n",
    "    # Loop through all selected complex number within the extent\n",
    "    for j in range(nIM):\n",
    "        for i in range(nRE):\n",
    "            z = center + (i - nRE // 2 + (j - nIM // 2)*1j) * scale\n",
    "\n",
    "            # Per complex number, validate it for a finite number of iterations\n",
    "            for k in range(max_iter):\n",
    "                z = z**2 + c\n",
    "\n",
    "                # if the modulus (or absolute value) of the complex number is greater than 2,\n",
    "                # it will diverge, thus not within Mandelbrot set\n",
    "                if np.absolute(z) > 2.0: \n",
    "                    break\n",
    "\n",
    "            niters[j, i] = k\n",
    "    return niters"
   ]
  },
  {
   "cell_type": "markdown",
   "id": "ad1a1b90",
   "metadata": {},
   "source": [
    "Compute the Julia set for the chosen $c$"
   ]
  },
  {
   "cell_type": "code",
   "execution_count": null,
   "id": "d58d3b73",
   "metadata": {},
   "outputs": [],
   "source": [
    "niters = compute_julia()"
   ]
  },
  {
   "cell_type": "markdown",
   "id": "31b57d4c",
   "metadata": {},
   "source": [
    "And visualize the result"
   ]
  },
  {
   "cell_type": "code",
   "execution_count": null,
   "id": "2b3a4e92",
   "metadata": {},
   "outputs": [],
   "source": [
    "fig, ax = plt.subplots(1,1, figsize=(10,10))\n",
    "plot_extent = (CENTER.real - EXTENT_RE/2,\n",
    "               CENTER.real + EXTENT_RE/2,\n",
    "               CENTER.imag - EXTENT_IM/2,\n",
    "               CENTER.imag + EXTENT_IM/2)\n",
    "\n",
    "ax.imshow(niters, origin='lower', extent=plot_extent)\n",
    "ax.set_xlabel(\"$\\Re(c)$\")\n",
    "ax.set_ylabel(\"$\\Im(c)$\")"
   ]
  },
  {
   "cell_type": "markdown",
   "id": "dbeda2ff",
   "metadata": {},
   "source": [
    "So all the bright yellow pixels are considered to be $z_1$ which are wthin the Julia set of $c$. Same as the last exercise, can you make the iteration faster?"
   ]
  }
 ],
 "metadata": {
  "kernelspec": {
   "display_name": "Python 3 (ipykernel)",
   "language": "python",
   "name": "python3"
  },
  "language_info": {
   "codemirror_mode": {
    "name": "ipython",
    "version": 3
   },
   "file_extension": ".py",
   "mimetype": "text/x-python",
   "name": "python",
   "nbconvert_exporter": "python",
   "pygments_lexer": "ipython3",
   "version": "3.9.9"
  }
 },
 "nbformat": 4,
 "nbformat_minor": 5
}
